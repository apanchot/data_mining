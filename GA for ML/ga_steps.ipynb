{
 "cells": [
  {
   "cell_type": "code",
   "execution_count": 14,
   "metadata": {},
   "outputs": [
    {
     "name": "stdout",
     "output_type": "stream",
     "text": [
      "100\n"
     ]
    }
   ],
   "source": [
    "from algorithm.genetic_algorithm import GeneticAlgorithm\n",
    "from problem.knapsack_problem import KnapsackProblem, knapsack_decision_variables_example, knapsack_constraints_example\n",
    "from problem.objective import ProblemObjective\n",
    "from algorithm.ga_operators import RouletteWheelSelection, RankSelection, TournamentSelection, singlepoint_crossover\n",
    "from util.terminal import Terminal, FontColor\n",
    "from random import randint\n",
    "\n",
    "knapsack_problem_instance = KnapsackProblem( \n",
    "    decision_variables = knapsack_decision_variables_example,\n",
    "    constraints = knapsack_constraints_example\n",
    ")\n",
    "\n",
    "def calc_weight( solution ): \n",
    "    \n",
    "    weights = knapsack_problem_instance.decision_variables[\"Weights\"] \n",
    "\n",
    "    weight = 0\n",
    "    for  i in range(0, len( weights )):\n",
    "        if solution.representation[ i ] == 1:\n",
    "            weight += weights[ i ]\n",
    "\n",
    "    return weight\n",
    "\n",
    "print( knapsack_problem_instance.constraints[\"Max-Weight\"] )"
   ]
  },
  {
   "cell_type": "code",
   "execution_count": 15,
   "metadata": {},
   "outputs": [
    {
     "name": "stdout",
     "output_type": "stream",
     "text": [
      "s: [1, 0, 1, 1, 1, 0, 1, 1, 1, 1] - f: 120 - w - 132\n",
      "s: [0, 1, 1, 1, 0, 1, 1, 1, 0, 1] - f: 109 - w - 114\n",
      "s: [0, 0, 1, 1, 1, 1, 1, 1, 0, 1] - f: 111 - w - 112\n"
     ]
    }
   ],
   "source": [
    "\n",
    "ga1 = GeneticAlgorithm( \n",
    "    problem_instance = knapsack_problem_instance,\n",
    "    params = {\n",
    "        \"Population-Size\" : 3\n",
    "    } )\n",
    "\n",
    "population = ga1._initialize( knapsack_problem_instance, 3)\n",
    "\n",
    "for solution in population.solutions:\n",
    "    print( f's: {solution.representation} - f: {solution.fitness} - w - {calc_weight( solution )}' )\n"
   ]
  },
  {
   "cell_type": "code",
   "execution_count": 17,
   "metadata": {},
   "outputs": [
    {
     "name": "stdout",
     "output_type": "stream",
     "text": [
      "115\n"
     ]
    }
   ],
   "source": [
    "\n",
    "test = [0, 1, 0, 1, 1, 0, 1, 1, 1, 1]\n",
    "weights = knapsack_problem_instance.decision_variables[\"Weights\"] \n",
    "\n",
    "weight = 0\n",
    "for  i in range(0, len( weights )):\n",
    "    if test[ i ] == 1:\n",
    "        weight += weights[ i ]\n",
    "\n",
    "print(weight)\n"
   ]
  },
  {
   "cell_type": "code",
   "execution_count": null,
   "metadata": {},
   "outputs": [],
   "source": [
    "1, 0, 0, 0, 1, 1, 1, 0, 0, 1\n",
    "1, 0, 0, 1, 0, 1, 0, 1, 1, 0\n",
    "\n",
    "1, 0, 0, 0, |||  0, 1, 0, 1, 1, 0 \n",
    "\n",
    "1, 0, 0, 1, ||| 0, "
   ]
  }
 ],
 "metadata": {
  "kernelspec": {
   "display_name": "Python 3",
   "language": "python",
   "name": "python3"
  },
  "language_info": {
   "codemirror_mode": {
    "name": "ipython",
    "version": 3
   },
   "file_extension": ".py",
   "mimetype": "text/x-python",
   "name": "python",
   "nbconvert_exporter": "python",
   "pygments_lexer": "ipython3",
   "version": "3.7.3"
  }
 },
 "nbformat": 4,
 "nbformat_minor": 2
}
